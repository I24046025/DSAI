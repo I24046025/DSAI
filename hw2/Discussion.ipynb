{
 "cells": [
  {
   "cell_type": "markdown",
   "metadata": {},
   "source": [
    "# Comparsion and Discussion\n",
    "In this notebook, I will compare **addition** model, **subtraction** model, and **addition+subtraction** model with respectively different training data sizes, operators, and digits. Also, discussions are presented of the results obtained from each experiment. \n",
    "\n",
    "For more details of how the models are built and how the data are generated, please see **mina.py** and **Addition.ipynb**."
   ]
  },
  {
   "cell_type": "code",
   "execution_count": 1,
   "metadata": {},
   "outputs": [
    {
     "name": "stderr",
     "output_type": "stream",
     "text": [
      "Using TensorFlow backend.\n"
     ]
    }
   ],
   "source": [
    "from keras.models import Sequential\n",
    "from keras import layers\n",
    "from keras.layers import Dense\n",
    "import numpy as np\n",
    "from six.moves import range\n",
    "import matplotlib.pyplot as plt\n",
    "\n",
    "import main"
   ]
  },
  {
   "cell_type": "code",
   "execution_count": 2,
   "metadata": {},
   "outputs": [],
   "source": [
    "def plot(record):\n",
    "    plt.plot(record)\n",
    "    plt.xlabel('Epochs')\n",
    "    plt.ylabel('Accuracy')\n",
    "    plt.grid()\n",
    "    plt.show()"
   ]
  },
  {
   "cell_type": "markdown",
   "metadata": {},
   "source": [
    "# Adder-1\n",
    "* Operator: '+'\n",
    "* Training Data: 27000\n",
    "* Validation Data: 3000\n",
    "* Testing Data: 70000\n",
    "* Digits: 3"
   ]
  },
  {
   "cell_type": "code",
   "execution_count": 3,
   "metadata": {},
   "outputs": [
    {
     "name": "stdout",
     "output_type": "stream",
     "text": [
      "Digits: 3\n",
      "Sample Data:  ['8+915  ', '9+8    ', '2+63   ', '1+75   ', '8+6    '] ['923 ', '17  ', '65  ', '76  ', '14  ']\n",
      "Training Data:\n",
      "(27000, 7, 13)\n",
      "(27000, 4, 13)\n",
      "Validation Data:\n",
      "(3000, 7, 13)\n",
      "(3000, 4, 13)\n",
      "Testing Data:\n",
      "(70000, 7, 13)\n",
      "(70000, 4, 13)\n",
      "Build model...\n",
      "WARNING:tensorflow:From C:\\Users\\USER\\Anaconda3\\lib\\site-packages\\tensorflow\\python\\framework\\op_def_library.py:263: colocate_with (from tensorflow.python.framework.ops) is deprecated and will be removed in a future version.\n",
      "Instructions for updating:\n",
      "Colocations handled automatically by placer.\n",
      "_________________________________________________________________\n",
      "Layer (type)                 Output Shape              Param #   \n",
      "=================================================================\n",
      "lstm_1 (LSTM)                (None, 128)               72704     \n",
      "_________________________________________________________________\n",
      "repeat_vector_1 (RepeatVecto (None, 4, 128)            0         \n",
      "_________________________________________________________________\n",
      "lstm_2 (LSTM)                (None, 4, 128)            131584    \n",
      "_________________________________________________________________\n",
      "lstm_3 (LSTM)                (None, 4, 128)            131584    \n",
      "_________________________________________________________________\n",
      "time_distributed_1 (TimeDist (None, 4, 13)             1677      \n",
      "_________________________________________________________________\n",
      "activation_1 (Activation)    (None, 4, 13)             0         \n",
      "=================================================================\n",
      "Total params: 337,549\n",
      "Trainable params: 337,549\n",
      "Non-trainable params: 0\n",
      "_________________________________________________________________\n",
      "Model training...\n",
      "WARNING:tensorflow:From C:\\Users\\USER\\Anaconda3\\lib\\site-packages\\tensorflow\\python\\ops\\math_ops.py:3066: to_int32 (from tensorflow.python.ops.math_ops) is deprecated and will be removed in a future version.\n",
      "Instructions for updating:\n",
      "Use tf.cast instead.\n",
      "WARNING:tensorflow:From C:\\Users\\USER\\Anaconda3\\lib\\site-packages\\tensorflow\\python\\ops\\math_grad.py:102: div (from tensorflow.python.ops.math_ops) is deprecated and will be removed in a future version.\n",
      "Instructions for updating:\n",
      "Deprecated in favor of operator or tf.math.divide.\n",
      "Q 800+309 T 1109 \u001b[92m☑\u001b[0m 1109\n",
      "Q 43+720  T 763  \u001b[92m☑\u001b[0m 763 \n",
      "Q 713+67  T 780  \u001b[92m☑\u001b[0m 780 \n",
      "Q 683+303 T 986  \u001b[92m☑\u001b[0m 986 \n",
      "Q 460+4   T 464  \u001b[92m☑\u001b[0m 464 \n",
      "Q 5+652   T 657  \u001b[92m☑\u001b[0m 657 \n",
      "Q 239+798 T 1037 \u001b[92m☑\u001b[0m 1037\n",
      "Q 955+92  T 1047 \u001b[92m☑\u001b[0m 1047\n",
      "Q 675+770 T 1445 \u001b[92m☑\u001b[0m 1445\n",
      "Q 721+107 T 828  \u001b[92m☑\u001b[0m 828 \n"
     ]
    }
   ],
   "source": [
    "opType = '+'\n",
    "trainSize = 30000\n",
    "digits = 3\n",
    "x_train, y_train, x_val, y_val, test_x, test_y = main.GenerateData(opType, trainSize, digits)\n",
    "adder1, adder1_acc_record = main.BuildAndTrainModel(x_train, y_train, x_val, y_val, test_x, test_y)"
   ]
  },
  {
   "cell_type": "code",
   "execution_count": 4,
   "metadata": {},
   "outputs": [
    {
     "data": {
      "image/png": "[encoded data removed]",
      "text/plain": [
       "<Figure size 432x288 with 1 Axes>"
      ]
     },
     "metadata": {
      "needs_background": "light"
     },
     "output_type": "display_data"
    }
   ],
   "source": [
    "plot(adder1_acc_record)"
   ]
  },
  {
   "cell_type": "code",
   "execution_count": 4,
   "metadata": {},
   "outputs": [],
   "source": [
    "# showsTestingResult(adder1, test_x, test_y)"
   ]
  },
  {
   "cell_type": "markdown",
   "metadata": {},
   "source": [
    "# Adder-2\n",
    "* Operator: '+'\n",
    "* Training Data: 27000\n",
    "* Validation Data: 3000\n",
    "* Testing Data: 70000\n",
    "* Digits: 4"
   ]
  },
  {
   "cell_type": "code",
   "execution_count": 3,
   "metadata": {},
   "outputs": [
    {
     "name": "stdout",
     "output_type": "stream",
     "text": [
      "Digits: 4\n",
      "Sample Data:  ['782+310  ', '66+7     ', '912+60   ', '1+460    ', '9653+8188'] ['1092 ', '73   ', '972  ', '461  ', '17841']\n",
      "Training Data:\n",
      "(27000, 9, 13)\n",
      "(27000, 5, 13)\n",
      "Validation Data:\n",
      "(3000, 9, 13)\n",
      "(3000, 5, 13)\n",
      "Testing Data:\n",
      "(70000, 9, 13)\n",
      "(70000, 5, 13)\n",
      "Build model...\n",
      "WARNING:tensorflow:From C:\\Users\\USER\\Anaconda3\\lib\\site-packages\\tensorflow\\python\\framework\\op_def_library.py:263: colocate_with (from tensorflow.python.framework.ops) is deprecated and will be removed in a future version.\n",
      "Instructions for updating:\n",
      "Colocations handled automatically by placer.\n",
      "_________________________________________________________________\n",
      "Layer (type)                 Output Shape              Param #   \n",
      "=================================================================\n",
      "lstm_1 (LSTM)                (None, 128)               72704     \n",
      "_________________________________________________________________\n",
      "repeat_vector_1 (RepeatVecto (None, 5, 128)            0         \n",
      "_________________________________________________________________\n",
      "lstm_2 (LSTM)                (None, 5, 128)            131584    \n",
      "_________________________________________________________________\n",
      "lstm_3 (LSTM)                (None, 5, 128)            131584    \n",
      "_________________________________________________________________\n",
      "time_distributed_1 (TimeDist (None, 5, 13)             1677      \n",
      "_________________________________________________________________\n",
      "activation_1 (Activation)    (None, 5, 13)             0         \n",
      "=================================================================\n",
      "Total params: 337,549\n",
      "Trainable params: 337,549\n",
      "Non-trainable params: 0\n",
      "_________________________________________________________________\n",
      "Model training...\n",
      "WARNING:tensorflow:From C:\\Users\\USER\\Anaconda3\\lib\\site-packages\\tensorflow\\python\\ops\\math_ops.py:3066: to_int32 (from tensorflow.python.ops.math_ops) is deprecated and will be removed in a future version.\n",
      "Instructions for updating:\n",
      "Use tf.cast instead.\n",
      "WARNING:tensorflow:From C:\\Users\\USER\\Anaconda3\\lib\\site-packages\\tensorflow\\python\\ops\\math_grad.py:102: div (from tensorflow.python.ops.math_ops) is deprecated and will be removed in a future version.\n",
      "Instructions for updating:\n",
      "Deprecated in favor of operator or tf.math.divide.\n"
     ]
    }
   ],
   "source": [
    "opType = '+'\n",
    "trainSize = 30000\n",
    "digits = 4\n",
    "x_train, y_train, x_val, y_val, test_x, test_y = main.GenerateData(opType, trainSize, digits)\n",
    "adder2, adder2_acc_record = main.BuildAndTrainModel(x_train, y_train, x_val, y_val, test_x, test_y)"
   ]
  },
  {
   "cell_type": "code",
   "execution_count": 5,
   "metadata": {},
   "outputs": [
    {
     "data": {
      "image/png": "[encoded data removed]",
      "text/plain": [
       "<Figure size 432x288 with 1 Axes>"
      ]
     },
     "metadata": {
      "needs_background": "light"
     },
     "output_type": "display_data"
    }
   ],
   "source": [
    "plot(adder2_acc_record)"
   ]
  },
  {
   "cell_type": "code",
   "execution_count": 7,
   "metadata": {},
   "outputs": [],
   "source": [
    "main.showsTestingResult(adder2, test_x, test_y)"
   ]
  },
  {
   "cell_type": "markdown",
   "metadata": {},
   "source": [
    "# Subtractor\n",
    "* Operator: '-'\n",
    "* Training Data: 18000\n",
    "* Validation Data: 2000\n",
    "* Testing Data: 80000\n",
    "* Digits: 3"
   ]
  },
  {
   "cell_type": "code",
   "execution_count": 3,
   "metadata": {},
   "outputs": [
    {
     "name": "stdout",
     "output_type": "stream",
     "text": [
      "Digits: 3\n",
      "Sample Data:  ['273-8  ', '319-751', '89-15  ', '116-665', '0-33   '] ['265 ', '-432', '74  ', '-549', '-33 ']\n",
      "Training Data:\n",
      "(18000, 7, 13)\n",
      "(18000, 4, 13)\n",
      "Validation Data:\n",
      "(2000, 7, 13)\n",
      "(2000, 4, 13)\n",
      "Testing Data:\n",
      "(80000, 7, 13)\n",
      "(80000, 4, 13)\n",
      "Build model...\n",
      "WARNING:tensorflow:From C:\\Users\\USER\\Anaconda3\\lib\\site-packages\\tensorflow\\python\\framework\\op_def_library.py:263: colocate_with (from tensorflow.python.framework.ops) is deprecated and will be removed in a future version.\n",
      "Instructions for updating:\n",
      "Colocations handled automatically by placer.\n",
      "_________________________________________________________________\n",
      "Layer (type)                 Output Shape              Param #   \n",
      "=================================================================\n",
      "lstm_1 (LSTM)                (None, 128)               72704     \n",
      "_________________________________________________________________\n",
      "repeat_vector_1 (RepeatVecto (None, 4, 128)            0         \n",
      "_________________________________________________________________\n",
      "lstm_2 (LSTM)                (None, 4, 128)            131584    \n",
      "_________________________________________________________________\n",
      "lstm_3 (LSTM)                (None, 4, 128)            131584    \n",
      "_________________________________________________________________\n",
      "time_distributed_1 (TimeDist (None, 4, 13)             1677      \n",
      "_________________________________________________________________\n",
      "activation_1 (Activation)    (None, 4, 13)             0         \n",
      "=================================================================\n",
      "Total params: 337,549\n",
      "Trainable params: 337,549\n",
      "Non-trainable params: 0\n",
      "_________________________________________________________________\n",
      "Model training...\n",
      "WARNING:tensorflow:From C:\\Users\\USER\\Anaconda3\\lib\\site-packages\\tensorflow\\python\\ops\\math_ops.py:3066: to_int32 (from tensorflow.python.ops.math_ops) is deprecated and will be removed in a future version.\n",
      "Instructions for updating:\n",
      "Use tf.cast instead.\n",
      "WARNING:tensorflow:From C:\\Users\\USER\\Anaconda3\\lib\\site-packages\\tensorflow\\python\\ops\\math_grad.py:102: div (from tensorflow.python.ops.math_ops) is deprecated and will be removed in a future version.\n",
      "Instructions for updating:\n",
      "Deprecated in favor of operator or tf.math.divide.\n"
     ]
    }
   ],
   "source": [
    "opType = '-'\n",
    "trainSize = 20000\n",
    "digits = 3\n",
    "x_train, y_train, x_val, y_val, test_x, test_y = main.GenerateData(opType, trainSize, digits)\n",
    "subtractor, subtractor_acc_record = main.BuildAndTrainModel(x_train, y_train, x_val, y_val, test_x, test_y)"
   ]
  },
  {
   "cell_type": "code",
   "execution_count": 5,
   "metadata": {},
   "outputs": [
    {
     "name": "stdout",
     "output_type": "stream",
     "text": [
      "Q 722-16  T 706  \u001b[92m☑\u001b[0m 706 \n",
      "Q 620-907 T -287 \u001b[92m☑\u001b[0m -287\n",
      "Q 93-693  T -600 \u001b[92m☑\u001b[0m -600\n",
      "Q 458-73  T 385  \u001b[92m☑\u001b[0m 385 \n",
      "Q 980-757 T 223  \u001b[92m☑\u001b[0m 223 \n",
      "Q 272-68  T 204  \u001b[92m☑\u001b[0m 204 \n",
      "Q 51-675  T -624 \u001b[92m☑\u001b[0m -624\n",
      "Q 207-53  T 154  \u001b[92m☑\u001b[0m 154 \n",
      "Q 601-804 T -203 \u001b[92m☑\u001b[0m -203\n",
      "Q 16-951  T -935 \u001b[92m☑\u001b[0m -935\n"
     ]
    }
   ],
   "source": [
    "main.showsTestingResult(subtractor, test_x, test_y)"
   ]
  },
  {
   "cell_type": "code",
   "execution_count": 4,
   "metadata": {},
   "outputs": [
    {
     "data": {
      "image/png": "[encoded data removed]",
      "text/plain": [
       "<Figure size 432x288 with 1 Axes>"
      ]
     },
     "metadata": {
      "needs_background": "light"
     },
     "output_type": "display_data"
    }
   ],
   "source": [
    "plot(subtractor_acc_record)"
   ]
  },
  {
   "cell_type": "markdown",
   "metadata": {},
   "source": [
    "# Adder+Subtractor-1\n",
    "* Operator: '+' and '-'\n",
    "* Training Data: 27000\n",
    "* Validation Data: 3000\n",
    "* Testing Data: 70000\n",
    "* Digits: 3"
   ]
  },
  {
   "cell_type": "code",
   "execution_count": 6,
   "metadata": {},
   "outputs": [
    {
     "name": "stdout",
     "output_type": "stream",
     "text": [
      "Digits: 3\n",
      "Sample Data:  ['172-327', '853-96 ', '55+807 ', '4+8    ', '42-85  '] ['-155', '757 ', '862 ', '12  ', '-43 ']\n",
      "Training Data:\n",
      "(27000, 7, 13)\n",
      "(27000, 4, 13)\n",
      "Validation Data:\n",
      "(3000, 7, 13)\n",
      "(3000, 4, 13)\n",
      "Testing Data:\n",
      "(70000, 7, 13)\n",
      "(70000, 4, 13)\n",
      "Build model...\n",
      "_________________________________________________________________\n",
      "Layer (type)                 Output Shape              Param #   \n",
      "=================================================================\n",
      "lstm_4 (LSTM)                (None, 128)               72704     \n",
      "_________________________________________________________________\n",
      "repeat_vector_2 (RepeatVecto (None, 4, 128)            0         \n",
      "_________________________________________________________________\n",
      "lstm_5 (LSTM)                (None, 4, 128)            131584    \n",
      "_________________________________________________________________\n",
      "lstm_6 (LSTM)                (None, 4, 128)            131584    \n",
      "_________________________________________________________________\n",
      "time_distributed_2 (TimeDist (None, 4, 13)             1677      \n",
      "_________________________________________________________________\n",
      "activation_2 (Activation)    (None, 4, 13)             0         \n",
      "=================================================================\n",
      "Total params: 337,549\n",
      "Trainable params: 337,549\n",
      "Non-trainable params: 0\n",
      "_________________________________________________________________\n",
      "Model training...\n"
     ]
    }
   ],
   "source": [
    "opType = '+-'\n",
    "trainSize = 30000\n",
    "digits = 3\n",
    "x_train, y_train, x_val, y_val, test_x, test_y = main.GenerateData(opType, trainSize, digits)\n",
    "add_sub1, add_sub1_acc_record = main.BuildAndTrainModel(x_train, y_train, x_val, y_val, test_x, test_y)"
   ]
  },
  {
   "cell_type": "code",
   "execution_count": 7,
   "metadata": {},
   "outputs": [
    {
     "data": {
      "image/png": "[encoded data removed]",
      "text/plain": [
       "<Figure size 432x288 with 1 Axes>"
      ]
     },
     "metadata": {
      "needs_background": "light"
     },
     "output_type": "display_data"
    }
   ],
   "source": [
    "plot(add_sub1_acc_record)"
   ]
  },
  {
   "cell_type": "code",
   "execution_count": 8,
   "metadata": {},
   "outputs": [
    {
     "name": "stdout",
     "output_type": "stream",
     "text": [
      "Q 159+383 T 542  \u001b[92m☑\u001b[0m 542 \n",
      "Q 435+56  T 491  \u001b[92m☑\u001b[0m 491 \n",
      "Q 17+88   T 105  \u001b[92m☑\u001b[0m 105 \n",
      "Q 77+996  T 1073 \u001b[91m☒\u001b[0m 1072\n",
      "Q 28+460  T 488  \u001b[92m☑\u001b[0m 488 \n",
      "Q 413-39  T 374  \u001b[92m☑\u001b[0m 374 \n",
      "Q 0-841   T -841 \u001b[92m☑\u001b[0m -841\n",
      "Q 246+53  T 299  \u001b[91m☒\u001b[0m 399 \n",
      "Q 946-617 T 329  \u001b[92m☑\u001b[0m 329 \n",
      "Q 54+447  T 501  \u001b[92m☑\u001b[0m 501 \n"
     ]
    }
   ],
   "source": [
    "main.showsTestingResult(add_sub1, test_x, test_y)"
   ]
  },
  {
   "cell_type": "markdown",
   "metadata": {},
   "source": [
    "# Adder+Subtractor-2\n",
    "* Operator: '+' and '-'\n",
    "* Training Data: 40000\n",
    "* Validation Data: 2000\n",
    "* Testing Data: 60000\n",
    "* Digits: 3"
   ]
  },
  {
   "cell_type": "code",
   "execution_count": 9,
   "metadata": {},
   "outputs": [
    {
     "name": "stdout",
     "output_type": "stream",
     "text": [
      "Digits: 3\n",
      "Sample Data:  ['76-71  ', '97+1   ', '5+8    ', '583-20 ', '376+90 '] ['5   ', '98  ', '13  ', '563 ', '466 ']\n",
      "Training Data:\n",
      "(36000, 7, 13)\n",
      "(36000, 4, 13)\n",
      "Validation Data:\n",
      "(4000, 7, 13)\n",
      "(4000, 4, 13)\n",
      "Testing Data:\n",
      "(60000, 7, 13)\n",
      "(60000, 4, 13)\n",
      "Build model...\n",
      "_________________________________________________________________\n",
      "Layer (type)                 Output Shape              Param #   \n",
      "=================================================================\n",
      "lstm_7 (LSTM)                (None, 128)               72704     \n",
      "_________________________________________________________________\n",
      "repeat_vector_3 (RepeatVecto (None, 4, 128)            0         \n",
      "_________________________________________________________________\n",
      "lstm_8 (LSTM)                (None, 4, 128)            131584    \n",
      "_________________________________________________________________\n",
      "lstm_9 (LSTM)                (None, 4, 128)            131584    \n",
      "_________________________________________________________________\n",
      "time_distributed_3 (TimeDist (None, 4, 13)             1677      \n",
      "_________________________________________________________________\n",
      "activation_3 (Activation)    (None, 4, 13)             0         \n",
      "=================================================================\n",
      "Total params: 337,549\n",
      "Trainable params: 337,549\n",
      "Non-trainable params: 0\n",
      "_________________________________________________________________\n",
      "Model training...\n"
     ]
    }
   ],
   "source": [
    "opType = '+-'\n",
    "trainSize = 40000\n",
    "digits = 3\n",
    "x_train, y_train, x_val, y_val, test_x, test_y = main.GenerateData(opType, trainSize, digits)\n",
    "add_sub2, add_sub2_acc_record = main.BuildAndTrainModel(x_train, y_train, x_val, y_val, test_x, test_y)"
   ]
  },
  {
   "cell_type": "code",
   "execution_count": 10,
   "metadata": {},
   "outputs": [
    {
     "data": {
      "image/png": "[encoded data removed]",
      "text/plain": [
       "<Figure size 432x288 with 1 Axes>"
      ]
     },
     "metadata": {
      "needs_background": "light"
     },
     "output_type": "display_data"
    }
   ],
   "source": [
    "plot(add_sub2_acc_record)"
   ]
  },
  {
   "cell_type": "code",
   "execution_count": 11,
   "metadata": {},
   "outputs": [
    {
     "name": "stdout",
     "output_type": "stream",
     "text": [
      "Q 35+964  T 999  \u001b[92m☑\u001b[0m 999 \n",
      "Q 25+315  T 340  \u001b[92m☑\u001b[0m 340 \n",
      "Q 196+323 T 519  \u001b[92m☑\u001b[0m 519 \n",
      "Q 586-74  T 512  \u001b[92m☑\u001b[0m 512 \n",
      "Q 266-42  T 224  \u001b[92m☑\u001b[0m 224 \n",
      "Q 489+185 T 674  \u001b[92m☑\u001b[0m 674 \n",
      "Q 73+322  T 395  \u001b[92m☑\u001b[0m 395 \n",
      "Q 663-96  T 567  \u001b[92m☑\u001b[0m 567 \n",
      "Q 519+14  T 533  \u001b[92m☑\u001b[0m 533 \n",
      "Q 238-369 T -131 \u001b[92m☑\u001b[0m -131\n"
     ]
    }
   ],
   "source": [
    "main.showsTestingResult(add_sub2, test_x, test_y)"
   ]
  },
  {
   "cell_type": "markdown",
   "metadata": {},
   "source": [
    "# Discussion"
   ]
  },
  {
   "cell_type": "markdown",
   "metadata": {},
   "source": [
    "As we can see the results from the above experiments, adder and subtractor with **3-digits** data can reach 95% accuracy within 100 epochs, whereas others cannot.  Adder with **4-digits** data can reach 60% accuracy in 40 epochs, but finally it only get about 85% accuracy after 100 epochs. \n",
    "\n",
    "In addition, adder+subtractor model with **27000** training data and 3000 validation data reach only 65% accuracy after 100 epochs. In order to increase the model performance, I increased the training data size of adder+subtractor model to **36000**, and the result shows that larger size of training can really help the perfomance in this case.\n",
    "\n",
    "We can then conclude the results into following 2 points:\n",
    "#### (1) Number Digits\n",
    "According to adder1 and adder2, which are trained with respectively 3 and 4 digits data, the result of adder2 gets less accuracy than adder1. This might be beacuse the model is not complex enough or the training data size are not big enough to train a longer sequence in adder2.\n",
    "#### (2) Training Size\n",
    "Adder_subtractor1 and adder+subtractor2 gives a good comparision of how training data size infulence the training result. With only 9000 data (about 33% of original size) are add into new training dataset, the accuracy dramatically increases (from 65% to 85%) within 100 epochs. This result might attritube to the insufficiency of information when the range of data doubled from 0~999 to -999~999. When the training data size are increased, the information coverage are increased, and thus the accuracy will outperfomed the original one."
   ]
  }
 ],
 "metadata": {
  "kernelspec": {
   "display_name": "Python 3",
   "language": "python",
   "name": "python3"
  },
  "language_info": {
   "codemirror_mode": {
    "name": "ipython",
    "version": 3
   },
   "file_extension": ".py",
   "mimetype": "text/x-python",
   "name": "python",
   "nbconvert_exporter": "python",
   "pygments_lexer": "ipython3",
   "version": "3.6.8"
  }
 },
 "nbformat": 4,
 "nbformat_minor": 2
}
